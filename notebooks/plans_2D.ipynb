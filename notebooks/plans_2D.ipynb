{
 "cells": [
  {
   "cell_type": "markdown",
   "id": "0e815493",
   "metadata": {},
   "source": [
    "### Methods for generating a 2D sketch of a scene/room"
   ]
  },
  {
   "cell_type": "code",
   "execution_count": null,
   "id": "5ecdccd1",
   "metadata": {},
   "outputs": [],
   "source": [
    "from utils_notebook import *\n",
    "from sklearn.cluster import DBSCAN\n",
    "import alphashape\n",
    "from shapely.geometry import Polygon\n",
    "import matplotlib.pyplot as plt"
   ]
  },
  {
   "cell_type": "code",
   "execution_count": 5,
   "id": "d49b4478",
   "metadata": {},
   "outputs": [],
   "source": [
    "CLOUD_POINT_PATH = \"./output/pointcloud/point_cloud.ply\""
   ]
  },
  {
   "cell_type": "markdown",
   "id": "35d7498c",
   "metadata": {},
   "source": [
    "#### First method : ransac for plane detection"
   ]
  },
  {
   "cell_type": "markdown",
   "id": "a103316e",
   "metadata": {},
   "source": [
    "First step is to load and voxelize the cloudpoint (too many points otherwise). We then for each point estimate its orientation, from its neighbors, that is its normal."
   ]
  },
  {
   "cell_type": "code",
   "execution_count": null,
   "id": "453e72ea",
   "metadata": {},
   "outputs": [],
   "source": [
    "# 0.2 : rendu plus épuré mais on perd des murs; 0.15 rendu plus fidèle mais très brouillon\n",
    "pts, cols = load_and_decimate_room_pc_voxels(0.1)\n",
    "normals = normal_estimation(pts, k=16)"
   ]
  },
  {
   "cell_type": "markdown",
   "id": "c9a9ef3a",
   "metadata": {},
   "source": [
    "Second step is to determine plans constituting the cloudpoints. In our case plans are vertical or horizontal and have a threshold of 0.3, which roughly means walls and ground can have a thickness of 30cm. Since the cloudpoint is not very precise, it is a good estimate. \n",
    "We are using ransac to associate the points to the planes, which finds iteratively the plane containing the most number of points and remove them from the next iteration. At the end, we have associated all points to a plane"
   ]
  },
  {
   "cell_type": "code",
   "execution_count": null,
   "id": "3c567b87",
   "metadata": {},
   "outputs": [],
   "source": [
    "shapes = ransac(pts, normals, min_pts=200,\n",
    "                plane_search_function=search_one_plane_normals,\n",
    "                plane_search_function_args=dict(\n",
    "                    plane_threshold=0.3,\n",
    "                    orient_threshold=0.9,\n",
    "                    proba_of_success=0.999\n",
    "                ))"
   ]
  },
  {
   "cell_type": "markdown",
   "id": "33948c82",
   "metadata": {},
   "source": [
    "Knowing the constitution of our scene, we can play on the number of planes returned here: we thus remove fioritures and unprecise points. \n",
    "To do so, we only keep the N planes containing the most number of points. In our case, we keep the 8 first ones."
   ]
  },
  {
   "cell_type": "markdown",
   "id": "dd823cf0",
   "metadata": {},
   "source": [
    "shape_colors = []\n",
    "shapes = shapes[:8]\n",
    "\n",
    "for shape_pts in shapes:\n",
    "    color = np.random.randint(0, 255, size=(1, 3))\n",
    "    color = np.repeat(color, shape_pts.shape[0], axis=0)\n",
    "    shape_colors.append(color)\n",
    "shapes_cat = np.concatenate(shapes, axis=0)\n",
    "shape_colors_cat = np.concatenate(shape_colors, axis=0)\n",
    "\n",
    "point_cloud_visu(shapes_cat, shape_colors_cat)"
   ]
  },
  {
   "cell_type": "markdown",
   "id": "c9a86532",
   "metadata": {},
   "source": [
    "Know comes the projection step. We only keep planes for which the furthest difference on the z axis between two points is superior to a threshold (here, 2m). This is done to filter planes and only keep the walls. We then project the points contained in the planes still there on a 2D plane."
   ]
  },
  {
   "cell_type": "code",
   "execution_count": null,
   "id": "12388184",
   "metadata": {},
   "outputs": [],
   "source": [
    "seuil_hauteur = 2\n",
    "\n",
    "shapes_flat = []\n",
    "shape_colors = []\n",
    "\n",
    "for shape_pts in shapes:\n",
    "    z_range = shape_pts[:, 2].max() - shape_pts[:, 2].min()\n",
    "\n",
    "    if z_range > seuil_hauteur:\n",
    "        shape_proj = shape_pts.copy()\n",
    "        shape_proj[:, 2] = 0\n",
    "\n",
    "        shapes_flat.append(shape_proj)\n",
    "\n",
    "        color = np.random.randint(0, 255, size=(1, 3))\n",
    "        color = np.repeat(color, shape_proj.shape[0], axis=0)\n",
    "        shape_colors.append(color)\n",
    "\n",
    "\n",
    "if shapes_flat:\n",
    "    shapes_cat = np.concatenate(shapes_flat, axis=0)\n",
    "    shape_colors_cat = np.concatenate(shape_colors, axis=0)\n",
    "\n",
    "    point_cloud_visu(shapes_cat, shape_colors_cat)\n",
    "else:\n",
    "    print(\"Aucune surface dépassant le seuil de hauteur.\")"
   ]
  },
  {
   "cell_type": "markdown",
   "id": "d9a20244",
   "metadata": {},
   "source": [
    "Lastly, and only if required, we can remove noise with DBScan, which is a clustering algorithm. Points with no cluster are to be removed as they are too far from others and thus not part of a wall."
   ]
  },
  {
   "cell_type": "code",
   "execution_count": null,
   "id": "22dec531",
   "metadata": {},
   "outputs": [],
   "source": [
    "clustering = DBSCAN(eps=0.3, min_samples=40).fit(shapes_cat)\n",
    "labels = clustering.labels_\n",
    "pts_2d_clean = shapes_cat[labels != -1]\n",
    "point_cloud_visu(pts_2d_clean)"
   ]
  },
  {
   "cell_type": "markdown",
   "id": "1cec305c",
   "metadata": {},
   "source": [
    "This method gives an estimate of the shape of a room, but we still have points, if we want to have a shape with lines we can use an alphashape method for example:"
   ]
  },
  {
   "cell_type": "code",
   "execution_count": null,
   "id": "e1f2ed88",
   "metadata": {},
   "outputs": [],
   "source": [
    "points_2d = pts_2d_clean[:, :2]\n",
    "\n",
    "alpha = 0.3  # play with alpha to modulate on the number of edges of the polygon\n",
    "shape = alphashape.alphashape(points_2d, alpha)\n",
    "\n",
    "plt.figure(figsize=(6, 6))\n",
    "plt.scatter(points_2d[:, 0], points_2d[:, 1], s=1)\n",
    "if isinstance(shape, Polygon):\n",
    "    x, y = shape.exterior.xy\n",
    "    plt.plot(x, y, 'r-', linewidth=2)\n",
    "plt.title(\"2D Room Map (Alpha Shape)\")\n",
    "plt.axis(\"equal\")\n",
    "plt.show()"
   ]
  },
  {
   "cell_type": "markdown",
   "id": "838254e0",
   "metadata": {},
   "source": [
    "As the shape of the room is taken from the perimeter of the points, we can see it is very sensible to noise."
   ]
  },
  {
   "cell_type": "markdown",
   "id": "5bd1e1eb",
   "metadata": {},
   "source": [
    "#### Second method : density and height maps"
   ]
  },
  {
   "cell_type": "markdown",
   "id": "1bb71d23",
   "metadata": {},
   "source": [
    "By playing with cell_size you get representations more or less precise, the lower the cell size, the more you see the points but the more precise it is"
   ]
  },
  {
   "cell_type": "code",
   "execution_count": null,
   "id": "93cfc314",
   "metadata": {},
   "outputs": [],
   "source": [
    "cell_size = 0.1\n",
    "pts, _ = load_and_decimate_room_pc_voxels(cell_size)"
   ]
  },
  {
   "cell_type": "code",
   "execution_count": null,
   "id": "3cf1fe4d",
   "metadata": {},
   "outputs": [],
   "source": [
    "x, y, z = pts[:, 0], pts[:, 1], pts[:, 2]\n",
    "# Discrétisation\n",
    "x_idx = ((x - x.min()) / cell_size).astype(int)\n",
    "y_idx = ((y - y.min()) / cell_size).astype(int)"
   ]
  },
  {
   "cell_type": "markdown",
   "id": "e6459f32",
   "metadata": {},
   "source": [
    "First is a simple density map : higher density in the 3D space are projected with a white color in 2D while lower density are darker"
   ]
  },
  {
   "cell_type": "code",
   "execution_count": null,
   "id": "4be4685b",
   "metadata": {},
   "outputs": [],
   "source": [
    "img_density = density_img(x_idx, y_idx)\n",
    "plt.imshow(img_density, cmap='gray', origin='lower')\n",
    "plt.title(\"Carte 2D (projection densité ou hauteur)\")\n",
    "plt.axis('off')\n",
    "plt.show()"
   ]
  },
  {
   "cell_type": "markdown",
   "id": "228c4170",
   "metadata": {},
   "source": [
    "By playing with a density threshold we can get a representation with more or less noise:"
   ]
  },
  {
   "cell_type": "code",
   "execution_count": null,
   "id": "c062a6a2",
   "metadata": {},
   "outputs": [],
   "source": [
    "# only keep density higher than 25% of the point with max density\n",
    "plt.imshow(img_density > 0.25, cmap='gray', origin='lower')\n",
    "plt.title(\"Carte 2D (projection densité ou hauteur)\")\n",
    "plt.axis('off')\n",
    "plt.show()"
   ]
  },
  {
   "cell_type": "markdown",
   "id": "d42691ca",
   "metadata": {},
   "source": [
    "Secondly we can project the vertical height (z axis) on the 2D space."
   ]
  },
  {
   "cell_type": "code",
   "execution_count": null,
   "id": "730618d5",
   "metadata": {},
   "outputs": [],
   "source": [
    "height_img = height_map(x_idx, y_idx, z)\n",
    "plt.imshow(height_img, cmap='gray', origin='lower')\n",
    "plt.title(\"Carte 2D (projection densité ou hauteur)\")\n",
    "plt.axis('off')\n",
    "plt.show()"
   ]
  },
  {
   "cell_type": "markdown",
   "id": "a5d8742a",
   "metadata": {},
   "source": [
    "Same as before, if we put a threshold we can remove the noise (here the things which are not walls)"
   ]
  },
  {
   "cell_type": "code",
   "execution_count": null,
   "id": "6412f4d0",
   "metadata": {},
   "outputs": [],
   "source": [
    "plt.imshow(height_img > 0.7, cmap='gray', origin='lower')\n",
    "plt.title(\"Carte 2D (projection densité ou hauteur)\")\n",
    "plt.axis('off')\n",
    "plt.show()"
   ]
  }
 ],
 "metadata": {
  "kernelspec": {
   "display_name": "Python 3",
   "language": "python",
   "name": "python3"
  },
  "language_info": {
   "codemirror_mode": {
    "name": "ipython",
    "version": 3
   },
   "file_extension": ".py",
   "mimetype": "text/x-python",
   "name": "python",
   "nbconvert_exporter": "python",
   "pygments_lexer": "ipython3",
   "version": "3.12.7"
  }
 },
 "nbformat": 4,
 "nbformat_minor": 5
}
