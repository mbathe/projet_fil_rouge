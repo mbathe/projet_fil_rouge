{
  "cells": [
    {
      "cell_type": "markdown",
      "id": "23e6b90c",
      "metadata": {
        "id": "23e6b90c"
      },
      "source": [
        "Short notebook to load and visualize a cloud point after generation (voxelized with voxels of size 10cm)"
      ]
    },
    {
      "cell_type": "code",
      "execution_count": 3,
      "id": "f2895b1a",
      "metadata": {
        "id": "f2895b1a"
      },
      "outputs": [],
      "source": [
        "from utils_notebook import *"
      ]
    },
    {
      "cell_type": "code",
      "execution_count": 4,
      "id": "5a1a1174",
      "metadata": {
        "id": "5a1a1174"
      },
      "outputs": [],
      "source": [
        "CLOUD_POINT_PATH = \"../output/rtabmap/point_cloud.ply\""
      ]
    },
    {
      "cell_type": "code",
      "execution_count": null,
      "id": "90617069",
      "metadata": {
        "colab": {
          "base_uri": "https://localhost:8080/",
          "height": 542
        },
        "id": "90617069",
        "outputId": "1e996968-cfbd-4b4f-d1f1-4bdef111530a"
      },
      "outputs": [],
      "source": [
        "pts_vox, cols_vox = load_and_decimate_room_pc_voxels(CLOUD_POINT_PATH, 0.04)\n",
        "point_cloud_visu(pts_vox, cols_vox)"
      ]
    },
    {
      "cell_type": "code",
      "execution_count": null,
      "id": "47240500",
      "metadata": {
        "colab": {
          "base_uri": "https://localhost:8080/",
          "height": 480
        },
        "id": "47240500",
        "outputId": "45343618-6e13-4286-fd81-4de10ac2e20e"
      },
      "outputs": [],
      "source": [
        "mesh = generate_3d_walls_from_pointcloud(CLOUD_POINT_PATH, show_contours=True)"
      ]
    }
  ],
  "metadata": {
    "accelerator": "GPU",
    "colab": {
      "gpuType": "T4",
      "provenance": []
    },
    "kernelspec": {
      "display_name": "Python 3",
      "name": "python3"
    },
    "language_info": {
      "codemirror_mode": {
        "name": "ipython",
        "version": 3
      },
      "file_extension": ".py",
      "mimetype": "text/x-python",
      "name": "python",
      "nbconvert_exporter": "python",
      "pygments_lexer": "ipython3",
      "version": "3.11.9"
    }
  },
  "nbformat": 4,
  "nbformat_minor": 5
}
