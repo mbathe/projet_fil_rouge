{
 "cells": [
  {
   "cell_type": "markdown",
   "id": "23e6b90c",
   "metadata": {},
   "source": [
    "Short notebook to load and visualize a cloud point after generation (voxelized with voxels of size 10cm) "
   ]
  },
  {
   "cell_type": "code",
   "execution_count": null,
   "id": "f2895b1a",
   "metadata": {},
   "outputs": [],
   "source": [
    "from utils_notebook import load_and_decimate_room_pc_voxels, point_cloud_visu"
   ]
  },
  {
   "cell_type": "code",
   "execution_count": null,
   "id": "5a1a1174",
   "metadata": {},
   "outputs": [],
   "source": [
    "CLOUD_POINT_PATH = \"./output/pointcloud/point_cloud.ply\""
   ]
  },
  {
   "cell_type": "code",
   "execution_count": null,
   "id": "90617069",
   "metadata": {},
   "outputs": [],
   "source": [
    "pts_vox, cols_vox = load_and_decimate_room_pc_voxels(CLOUD_POINT_PATH, 0.1)\n",
    "point_cloud_visu(pts_vox, cols_vox)"
   ]
  }
 ],
 "metadata": {
  "kernelspec": {
   "display_name": "base",
   "language": "python",
   "name": "python3"
  },
  "language_info": {
   "codemirror_mode": {
    "name": "ipython",
    "version": 3
   },
   "file_extension": ".py",
   "mimetype": "text/x-python",
   "name": "python",
   "nbconvert_exporter": "python",
   "pygments_lexer": "ipython3",
   "version": "3.12.7"
  }
 },
 "nbformat": 4,
 "nbformat_minor": 5
}
